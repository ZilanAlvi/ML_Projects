{
  "nbformat": 4,
  "nbformat_minor": 0,
  "metadata": {
    "colab": {
      "provenance": []
    },
    "kernelspec": {
      "name": "python3",
      "display_name": "Python 3"
    },
    "language_info": {
      "name": "python"
    }
  },
  "cells": [
    {
      "cell_type": "markdown",
      "source": [
        "1. Importing Libraries"
      ],
      "metadata": {
        "id": "moygR9M3cX5v"
      }
    },
    {
      "cell_type": "code",
      "execution_count": null,
      "metadata": {
        "id": "YhaS1c_2cIO3"
      },
      "outputs": [],
      "source": [
        "import numpy as np\n",
        "import pandas as pd\n",
        "import tensorflow as tf\n",
        "from sklearn.model_selection import train_test_split\n",
        "from sklearn import preprocessing\n",
        "from tensorflow.keras.preprocessing.text import Tokenizer\n",
        "from tensorflow.keras.preprocessing.sequence import pad_sequences"
      ]
    },
    {
      "cell_type": "markdown",
      "source": [
        "2. Importing the Dataset"
      ],
      "metadata": {
        "id": "rDPCXVRacdYH"
      }
    },
    {
      "cell_type": "code",
      "source": [
        "data = pd.read_csv(\"news.csv\")\n",
        "data.head()"
      ],
      "metadata": {
        "id": "omz_xucQcKvY"
      },
      "execution_count": null,
      "outputs": []
    },
    {
      "cell_type": "markdown",
      "source": [
        "3. Preprocessing Dataset"
      ],
      "metadata": {
        "id": "a5l1HnG_cfIH"
      }
    },
    {
      "cell_type": "code",
      "source": [
        "data = data.drop([\"Unnamed: 0\"], axis=1)\n",
        "data.head(5)"
      ],
      "metadata": {
        "id": "FhryQIDKcS6_"
      },
      "execution_count": null,
      "outputs": []
    },
    {
      "cell_type": "markdown",
      "source": [
        "4. Data Encoding"
      ],
      "metadata": {
        "id": "swFuknm2ciUG"
      }
    },
    {
      "cell_type": "markdown",
      "source": [
        "It converts the categorical column (label in out case) into numerical values.\n",
        "\n",
        "le.fit(data['label']): Fits the encoder on the 'label' column to learn the unique categories.\n",
        "data['label'] = le.transform(data['label']): Transforms the categorical labels into numerical format (0 for REAL, 1 for FAKE)."
      ],
      "metadata": {
        "id": "xkXIqVAscn0f"
      }
    },
    {
      "cell_type": "code",
      "source": [
        "le = preprocessing.LabelEncoder()\n",
        "le.fit(data['label'])\n",
        "data['label'] = le.transform(data['label'])"
      ],
      "metadata": {
        "id": "OmIVO7OPcur3"
      },
      "execution_count": null,
      "outputs": []
    },
    {
      "cell_type": "markdown",
      "source": [
        "5. Variables Setup"
      ],
      "metadata": {
        "id": "uitM0WiPcz_v"
      }
    },
    {
      "cell_type": "code",
      "source": [
        "embedding_dim = 50\n",
        "max_length = 54\n",
        "padding_type = 'post'\n",
        "trunc_type = 'post'\n",
        "oov_tok = \"<OOV>\"\n",
        "training_size = 3000\n",
        "test_portion = 0.1"
      ],
      "metadata": {
        "id": "phTcnHVuc3b3"
      },
      "execution_count": null,
      "outputs": []
    },
    {
      "cell_type": "markdown",
      "source": [
        "6. Tokenization"
      ],
      "metadata": {
        "id": "0EjV_wtoc4hv"
      }
    },
    {
      "cell_type": "markdown",
      "source": [
        "This process divides a large piece of continuous text into distinct units or tokens. Here we use columns separately for a temporal basis as a pipeline just for good accuracy.\n",
        "\n",
        "tokenizer1.fit_on_texts(title): Fits the tokenizer on the 'title' column to create a vocabulary.\n",
        "pad_sequences(sequences1): Pads the sequences to ensure they all have the same length."
      ],
      "metadata": {
        "id": "M2RxFCuic-tO"
      }
    },
    {
      "cell_type": "code",
      "source": [
        "title = []\n",
        "text = []\n",
        "labels = []\n",
        "for x in range(training_size):\n",
        "    title.append(data['title'][x])\n",
        "    text.append(data['text'][x])\n",
        "    labels.append(data['label'][x])\n",
        "\n",
        "tokenizer1 = Tokenizer()\n",
        "tokenizer1.fit_on_texts(title)\n",
        "word_index1 = tokenizer1.word_index\n",
        "vocab_size1 = len(word_index1)\n",
        "sequences1 = tokenizer1.texts_to_sequences(title)\n",
        "padded1 = pad_sequences(sequences1, padding=padding_type, truncating=trunc_type)"
      ],
      "metadata": {
        "id": "Tj0QLsYxc39e"
      },
      "execution_count": null,
      "outputs": []
    },
    {
      "cell_type": "markdown",
      "source": [
        "7. Splitting Data for Training and Testing\n"
      ],
      "metadata": {
        "id": "AD50xU4bdCAf"
      }
    },
    {
      "cell_type": "markdown",
      "source": [
        "training_sequences1, test_sequences1: Splits the tokenized and padded data into training and testing sets.\n",
        "training_labels, test_labels: Splits the corresponding labels into training and testing labels."
      ],
      "metadata": {
        "id": "ByZc7o5HdE0H"
      }
    },
    {
      "cell_type": "code",
      "source": [
        "split = int(test_portion * training_size)\n",
        "training_sequences1 = padded1[split:training_size]\n",
        "test_sequences1 = padded1[0:split]\n",
        "test_labels = labels[0:split]\n",
        "training_labels = labels[split:training_size]"
      ],
      "metadata": {
        "id": "nyRspsYgdH55"
      },
      "execution_count": null,
      "outputs": []
    },
    {
      "cell_type": "markdown",
      "source": [
        "8. Reshaping Data for LSTM\n"
      ],
      "metadata": {
        "id": "82LIwyNEdLJH"
      }
    },
    {
      "cell_type": "markdown",
      "source": [
        "We will be using LSTM(Long Short Term Memory) model for prediction and for that we need to reshape padded sequence. We are converting it into np.array() as we need training and test sequences into NumPy arrays which are required by TensorFlow models."
      ],
      "metadata": {
        "id": "5dg2RzLmdOIX"
      }
    },
    {
      "cell_type": "code",
      "source": [
        "training_sequences1 = np.array(training_sequences1)\n",
        "test_sequences1 = np.array(test_sequences1)"
      ],
      "metadata": {
        "id": "GCokrGA3dR4n"
      },
      "execution_count": null,
      "outputs": []
    },
    {
      "cell_type": "markdown",
      "source": [
        "9. Generating Word Embedding\n"
      ],
      "metadata": {
        "id": "Mxv_4pmpdUTP"
      }
    },
    {
      "cell_type": "markdown",
      "source": [
        "Embeddings allows words with similar meanings to have a similar representation. Here each individual word is represented as real-valued vectors in a predefined vector space. For that we will be using glove.6B.50d.txt.\n",
        "\n",
        "!wget: Downloads the pre-trained GloVe embeddings from the following link.\n",
        "!unzip: Unzips the downloaded file containing the GloVe embeddings."
      ],
      "metadata": {
        "id": "fdpzeJBqdV8H"
      }
    },
    {
      "cell_type": "code",
      "source": [
        "!wget https://downloads.cs.stanford.edu/nlp/data/glove.6B.zip\n",
        "!unzip glove.6B.zip"
      ],
      "metadata": {
        "id": "7C2FDvDkdYrn"
      },
      "execution_count": null,
      "outputs": []
    },
    {
      "cell_type": "code",
      "source": [
        "embedding_index = {}\n",
        "with open('glove.6B.50d.txt', 'r', encoding='utf-8') as f:\n",
        "    for line in f:\n",
        "        values = line.split()\n",
        "        word = values[0]\n",
        "        coefs = np.asarray(values[1:], dtype='float32')\n",
        "        embedding_index[word] = coefs\n",
        "\n",
        "embedding_matrix = np.zeros((vocab_size1 + 1, embedding_dim))\n",
        "\n",
        "for word, i in word_index1.items():\n",
        "    if i < vocab_size1:\n",
        "        embedding_vector = embedding_index.get(word)\n",
        "        if embedding_vector is not None:\n",
        "            embedding_matrix[i] = embedding_vector"
      ],
      "metadata": {
        "id": "lrkQknVUdgaX"
      },
      "execution_count": null,
      "outputs": []
    },
    {
      "cell_type": "markdown",
      "source": [
        "10. Model Architecture\n"
      ],
      "metadata": {
        "id": "u3oOiPG7dhZH"
      }
    },
    {
      "cell_type": "markdown",
      "source": [
        "Here we use the TensorFlow embedding technique with Keras Embedding Layer where we map original input data into some set of real-valued dimensions.\n",
        "\n",
        "Embedding: The embedding layer uses pre-trained GloVe embeddings.\n",
        "Conv1D: A 1D convolutional layer to detect patterns in the text.\n",
        "LSTM(64): An LSTM layer to capture long-term dependencies in the data."
      ],
      "metadata": {
        "id": "Knlt2hy2dj8f"
      }
    },
    {
      "cell_type": "code",
      "source": [
        "model = tf.keras.Sequential([\n",
        "    tf.keras.layers.Embedding(vocab_size1 + 1, embedding_dim, input_length=max_length,\n",
        "                              weights=[embedding_matrix], trainable=False),\n",
        "    tf.keras.layers.Dropout(0.2),\n",
        "    tf.keras.layers.Conv1D(64, 5, activation='relu'),\n",
        "    tf.keras.layers.MaxPooling1D(pool_size=4),\n",
        "    tf.keras.layers.LSTM(64),\n",
        "    tf.keras.layers.Dense(1, activation='sigmoid')\n",
        "])\n",
        "\n",
        "model.compile(loss='binary_crossentropy', optimizer='adam', metrics=['accuracy'])\n",
        "model.summary()"
      ],
      "metadata": {
        "id": "127ggWn8doff"
      },
      "execution_count": null,
      "outputs": []
    },
    {
      "cell_type": "markdown",
      "source": [
        "11. Training the Model\n",
        "\n",
        "\n",
        "\n"
      ],
      "metadata": {
        "id": "hfJ2NK8idroH"
      }
    },
    {
      "cell_type": "code",
      "source": [
        "history = model.fit(\n",
        "    training_sequences1,\n",
        "    np.array(training_labels),\n",
        "    epochs=50,\n",
        "    validation_data=(test_sequences1, np.array(test_labels)),\n",
        "    verbose=2\n",
        ")"
      ],
      "metadata": {
        "id": "_Ougda2Idq8X"
      },
      "execution_count": null,
      "outputs": []
    },
    {
      "cell_type": "markdown",
      "source": [
        "For each epoch training accuracy improves reaching around 97% by the 50th epoch while the validation accuracy is around 75%. The validation loss gradually decreases, indicating that the model is learning from the data but it also shows signs of some overfitting as the validation accuracy is lower than the training accuracy. To avoid this we can further fine tune the model.\n",
        "\n"
      ],
      "metadata": {
        "id": "4MiC7Onjdwwv"
      }
    },
    {
      "cell_type": "markdown",
      "source": [
        "12. Sample Prediction\n"
      ],
      "metadata": {
        "id": "MYRDSTQ-dz1v"
      }
    },
    {
      "cell_type": "code",
      "source": [
        "X = \"Hasina went to France in gesture of sympathy\"\n",
        "\n",
        "sequences = tokenizer1.texts_to_sequences([X])\n",
        "sequences = pad_sequences(sequences, maxlen=max_length, padding=padding_type, truncating=trunc_type)\n",
        "if model.predict(sequences, verbose=0)[0][0] >= 0.5:\n",
        "    print(\"This news is True\")\n",
        "else:\n",
        "    print(\"This news is False\")"
      ],
      "metadata": {
        "id": "AP9EHP8Vdxd_"
      },
      "execution_count": null,
      "outputs": []
    },
    {
      "cell_type": "markdown",
      "source": [
        "This model can be further improved by fine-tuning the hyperparameters, trying different architectures or using more advanced techniques like attention mechanisms."
      ],
      "metadata": {
        "id": "iOpabOydeJhv"
      }
    }
  ]
}